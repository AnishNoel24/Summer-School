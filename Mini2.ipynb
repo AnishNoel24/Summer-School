{
  "nbformat": 4,
  "nbformat_minor": 0,
  "metadata": {
    "colab": {
      "provenance": []
    },
    "kernelspec": {
      "name": "python3",
      "display_name": "Python 3"
    },
    "language_info": {
      "name": "python"
    }
  },
  "cells": [
    {
      "cell_type": "code",
      "execution_count": 1,
      "metadata": {
        "id": "jxa_lXzCWGeL"
      },
      "outputs": [],
      "source": [
        "import random as r"
      ]
    },
    {
      "cell_type": "code",
      "source": [
        "P_List = {'p1':10, 'p2':15, 'p3':20, 'p4':25, 'p5':30, 'p6':35, 'p7':50,\n",
        "               'p8':40, 'p9':55, 'p10':60, 'p11':65, 'p12':75, 'p13':70,\n",
        "               'p14':45}\n",
        "Lower          = 290\n",
        "Upper          = 310\n",
        "Ans  = set()\n",
        "Iterations  = 1000"
      ],
      "metadata": {
        "id": "edxIEI2TW60j"
      },
      "execution_count": 3,
      "outputs": []
    },
    {
      "cell_type": "code",
      "source": [
        "# Select combo size (i.e. number of products in a combo)\n",
        "SetSize = r.randint(2, len(P_List)-1)\n",
        "print(\"Number of Product: \", SetSize)\n",
        "\n",
        "\n",
        "# Select number of elements from Set\n",
        "C_List = r.sample(list(P_List.keys()),SetSize)\n",
        "print(\"Product List     : \", C_List)\n",
        "\n",
        "\n",
        "# Sum the products in ColboList\n",
        "C_Sum = sum([ P_List[i] for i in C_List])\n",
        "print(\"Sum of Product   : \", C_Sum)"
      ],
      "metadata": {
        "colab": {
          "base_uri": "https://localhost:8080/"
        },
        "id": "rFoC4Og1XDrR",
        "outputId": "f0f09002-ac1c-46b6-ce73-b5938478b244"
      },
      "execution_count": 4,
      "outputs": [
        {
          "output_type": "stream",
          "name": "stdout",
          "text": [
            "Number of Product:  10\n",
            "Product List     :  ['p7', 'p9', 'p1', 'p4', 'p3', 'p13', 'p6', 'p12', 'p10', 'p14']\n",
            "Sum of Product   :  445\n"
          ]
        }
      ]
    },
    {
      "cell_type": "code",
      "source": [
        "# Loop till number of Iterations\n",
        "Ans  = set()\n",
        "\n",
        "for i in range(Iterations):\n",
        "\n",
        "    # Select combo size (i.e. number of products in a combo)\n",
        "    SetSize = r.randint(2, len(P_List)-1)\n",
        "\n",
        "    # Select number of elements from Set\n",
        "    C_List = r.sample(list(P_List.keys()),SetSize)\n",
        "\n",
        "    # Sum the products in ColboList\n",
        "    C_Sum = sum([ P_List[i] for i in C_List])\n",
        "\n",
        "    # Check the Sum Between LB and UB\n",
        "    if C_Sum>= LB and C_Sum<= Upper:\n",
        "      Ans.add(tuple(C_List))\n",
        "\n",
        "print(\"Done\")"
      ],
      "metadata": {
        "colab": {
          "base_uri": "https://localhost:8080/"
        },
        "id": "wY_y2Af4XXHa",
        "outputId": "9b0fb0aa-3cf6-4d95-de06-f3b47f966a79"
      },
      "execution_count": 5,
      "outputs": [
        {
          "output_type": "stream",
          "name": "stdout",
          "text": [
            "Done\n"
          ]
        }
      ]
    },
    {
      "cell_type": "code",
      "source": [
        "# Print all the sets whose sum is between LB and UB\n",
        "for r in Ans:\n",
        "\tprint (r)\n",
        "\n",
        "# Print total sets\n",
        "print (\"\\nTotal Sets: \", len(Ans), \"\\n\")"
      ],
      "metadata": {
        "colab": {
          "base_uri": "https://localhost:8080/"
        },
        "id": "6lGeMw4gXsZK",
        "outputId": "8a7d647c-54df-494f-dbcd-16443373297b"
      },
      "execution_count": 6,
      "outputs": [
        {
          "output_type": "stream",
          "name": "stdout",
          "text": [
            "('p6', 'p8', 'p12', 'p3', 'p9', 'p11')\n",
            "('p12', 'p5', 'p3', 'p8', 'p9', 'p11', 'p2')\n",
            "('p6', 'p5', 'p2', 'p4', 'p7', 'p9', 'p11', 'p1', 'p3')\n",
            "('p9', 'p10', 'p4', 'p14', 'p3', 'p2', 'p1', 'p11')\n",
            "('p8', 'p6', 'p1', 'p2', 'p14', 'p9', 'p4', 'p11')\n",
            "('p8', 'p12', 'p7', 'p9', 'p6', 'p14')\n",
            "('p8', 'p13', 'p1', 'p9', 'p3', 'p2', 'p4', 'p12')\n",
            "('p4', 'p10', 'p12', 'p14', 'p7', 'p5', 'p3')\n",
            "('p13', 'p3', 'p4', 'p9', 'p8', 'p1', 'p14', 'p6')\n",
            "('p3', 'p8', 'p12', 'p9', 'p2', 'p1', 'p14', 'p7')\n",
            "('p2', 'p8', 'p7', 'p9', 'p13', 'p10')\n",
            "('p6', 'p13', 'p8', 'p4', 'p9', 'p3', 'p7')\n",
            "('p3', 'p10', 'p8', 'p9', 'p5', 'p13', 'p1', 'p4')\n",
            "('p1', 'p13', 'p7', 'p2', 'p9', 'p10', 'p6')\n",
            "('p11', 'p4', 'p10', 'p14', 'p6', 'p12')\n",
            "('p13', 'p11', 'p4', 'p12', 'p9')\n",
            "('p5', 'p12', 'p10', 'p7', 'p4', 'p9', 'p2')\n",
            "('p14', 'p1', 'p13', 'p4', 'p5', 'p12', 'p6')\n",
            "('p4', 'p10', 'p12', 'p14', 'p5', 'p9')\n",
            "('p8', 'p9', 'p14', 'p13', 'p10', 'p5')\n",
            "('p10', 'p7', 'p14', 'p4', 'p5', 'p13', 'p3')\n",
            "('p4', 'p14', 'p2', 'p9', 'p7', 'p6', 'p1', 'p12')\n",
            "('p13', 'p11', 'p9', 'p7', 'p10')\n",
            "('p6', 'p14', 'p5', 'p8', 'p11', 'p10', 'p4')\n",
            "('p3', 'p13', 'p11', 'p5', 'p14', 'p4', 'p8')\n",
            "('p8', 'p14', 'p13', 'p10', 'p5', 'p7', 'p2')\n",
            "('p14', 'p3', 'p8', 'p5', 'p11', 'p7', 'p9')\n",
            "('p5', 'p14', 'p3', 'p9', 'p8', 'p6', 'p13')\n",
            "('p1', 'p8', 'p10', 'p11', 'p4', 'p14', 'p9')\n",
            "('p10', 'p14', 'p12', 'p4', 'p9', 'p7')\n",
            "('p1', 'p4', 'p11', 'p5', 'p13', 'p10', 'p8')\n",
            "('p10', 'p8', 'p13', 'p4', 'p7', 'p14', 'p2')\n",
            "('p14', 'p6', 'p2', 'p13', 'p11', 'p12')\n",
            "('p5', 'p4', 'p12', 'p8', 'p13', 'p7')\n",
            "('p12', 'p14', 'p9', 'p11', 'p7', 'p3')\n",
            "('p5', 'p7', 'p4', 'p13', 'p6', 'p2', 'p11')\n",
            "('p1', 'p9', 'p12', 'p13', 'p3', 'p2', 'p11')\n",
            "('p6', 'p4', 'p8', 'p2', 'p7', 'p12', 'p10', 'p1')\n",
            "('p11', 'p9', 'p13', 'p2', 'p4', 'p3', 'p7')\n",
            "\n",
            "Total Sets:  39 \n",
            "\n"
          ]
        }
      ]
    },
    {
      "cell_type": "code",
      "source": [
        "import random\n",
        "\n",
        "ProductList = {'p1': 10, 'p2': 15, 'p3': 20, 'p4': 25, 'p5': 30, 'p6': 35, 'p7': 50,\n",
        "               'p8': 40, 'p9': 55, 'p10': 60, 'p11': 65, 'p12': 75, 'p13': 70,\n",
        "               'p14': 45}\n",
        "LB = 290\n",
        "UB = 310\n",
        "ResultList = set()\n",
        "Iterations = 1000\n",
        "\n",
        "for _ in range(Iterations):\n",
        "    SetSize = random.randint(2, len(ProductList) - 1)\n",
        "    ComboList = random.sample(list(ProductList.keys()), SetSize)\n",
        "    ComboSum = sum(ProductList[i] for i in ComboList)\n",
        "    if LB <= ComboSum <= UB:\n",
        "        ResultList.add(tuple(sorted(ComboList)))\n",
        "\n",
        "for result in ResultList:\n",
        "    print(result)\n",
        "\n",
        "print(\"\\nTotal Sets:\", len(ResultList))\n"
      ],
      "metadata": {
        "colab": {
          "base_uri": "https://localhost:8080/"
        },
        "id": "pxgCVGEFXyNS",
        "outputId": "92177cf4-a1bc-4ad3-ada7-bd0f85bce9df"
      },
      "execution_count": 7,
      "outputs": [
        {
          "output_type": "stream",
          "name": "stdout",
          "text": [
            "('p10', 'p12', 'p14', 'p5', 'p7', 'p8')\n",
            "('p10', 'p14', 'p2', 'p4', 'p7', 'p8', 'p9')\n",
            "('p13', 'p4', 'p5', 'p6', 'p7', 'p8', 'p9')\n",
            "('p1', 'p12', 'p2', 'p3', 'p5', 'p7', 'p8', 'p9')\n",
            "('p10', 'p11', 'p12', 'p4', 'p5', 'p6')\n",
            "('p10', 'p12', 'p2', 'p3', 'p4', 'p5', 'p6', 'p7')\n",
            "('p1', 'p10', 'p13', 'p5', 'p6', 'p7', 'p8')\n",
            "('p11', 'p12', 'p14', 'p4', 'p8', 'p9')\n",
            "('p11', 'p12', 'p13', 'p14', 'p2', 'p8')\n",
            "('p1', 'p14', 'p3', 'p4', 'p5', 'p6', 'p7', 'p8', 'p9')\n",
            "('p10', 'p14', 'p2', 'p3', 'p5', 'p6', 'p7', 'p9')\n",
            "('p1', 'p12', 'p13', 'p3', 'p6', 'p8', 'p9')\n",
            "('p11', 'p14', 'p3', 'p4', 'p7', 'p8', 'p9')\n",
            "('p10', 'p11', 'p12', 'p3', 'p7', 'p8')\n",
            "('p1', 'p12', 'p2', 'p4', 'p5', 'p6', 'p7', 'p9')\n",
            "('p1', 'p14', 'p2', 'p4', 'p5', 'p6', 'p7', 'p8', 'p9')\n",
            "('p1', 'p11', 'p14', 'p3', 'p5', 'p6', 'p7', 'p9')\n",
            "('p12', 'p13', 'p2', 'p3', 'p4', 'p5', 'p6', 'p8')\n",
            "('p13', 'p14', 'p2', 'p3', 'p4', 'p5', 'p6', 'p7')\n",
            "('p12', 'p13', 'p3', 'p5', 'p8', 'p9')\n",
            "('p1', 'p10', 'p11', 'p3', 'p5', 'p7', 'p9')\n",
            "('p10', 'p11', 'p14', 'p3', 'p4', 'p6', 'p7')\n",
            "('p1', 'p10', 'p11', 'p12', 'p14', 'p2', 'p3')\n",
            "('p10', 'p13', 'p2', 'p4', 'p6', 'p7', 'p8')\n",
            "('p1', 'p13', 'p2', 'p4', 'p5', 'p7', 'p8', 'p9')\n",
            "('p11', 'p14', 'p3', 'p4', 'p5', 'p6', 'p7', 'p8')\n",
            "('p1', 'p11', 'p12', 'p2', 'p3', 'p5', 'p6', 'p7')\n",
            "('p11', 'p12', 'p3', 'p4', 'p5', 'p8', 'p9')\n",
            "('p1', 'p11', 'p13', 'p14', 'p2', 'p3', 'p4', 'p8')\n",
            "('p11', 'p14', 'p6', 'p7', 'p8', 'p9')\n",
            "('p10', 'p13', 'p14', 'p3', 'p4', 'p6', 'p8')\n",
            "('p11', 'p12', 'p14', 'p2', 'p4', 'p5', 'p9')\n",
            "('p1', 'p10', 'p12', 'p13', 'p14', 'p8')\n",
            "('p10', 'p12', 'p13', 'p7', 'p8')\n",
            "('p12', 'p14', 'p3', 'p4', 'p6', 'p8', 'p9')\n",
            "('p1', 'p11', 'p4', 'p5', 'p6', 'p7', 'p8', 'p9')\n",
            "('p1', 'p11', 'p12', 'p4', 'p5', 'p6', 'p9')\n",
            "\n",
            "Total Sets: 37\n"
          ]
        }
      ]
    },
    {
      "cell_type": "code",
      "source": [],
      "metadata": {
        "id": "WjpYH89AYCih"
      },
      "execution_count": null,
      "outputs": []
    }
  ]
}