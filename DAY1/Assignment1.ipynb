{
  "nbformat": 4,
  "nbformat_minor": 0,
  "metadata": {
    "colab": {
      "provenance": []
    },
    "kernelspec": {
      "name": "python3",
      "display_name": "Python 3"
    },
    "language_info": {
      "name": "python"
    }
  },
  "cells": [
    {
      "cell_type": "markdown",
      "source": [
        "Q1. L is a list defined as L= [11, 12, 13, 14].\n",
        "(i) WAP to add 50 and 60 to L."
      ],
      "metadata": {
        "id": "dftBADQ3MuLt"
      }
    },
    {
      "cell_type": "code",
      "execution_count": null,
      "metadata": {
        "colab": {
          "base_uri": "https://localhost:8080/"
        },
        "id": "Lz4FAdLVMrxy",
        "outputId": "52dee935-d93e-41fb-a525-ad7d655122ff"
      },
      "outputs": [
        {
          "output_type": "stream",
          "name": "stdout",
          "text": [
            "[11, 12, 13, 14, 50, 60]\n"
          ]
        }
      ],
      "source": [
        "L= [11, 12, 13, 14]\n",
        "L.append(50)\n",
        "L.append(60)\n",
        "print(L)"
      ]
    },
    {
      "cell_type": "markdown",
      "source": [
        "(ii) WAP to remove 11 and 13from L.\n"
      ],
      "metadata": {
        "id": "T8youK6yMsy2"
      }
    },
    {
      "cell_type": "code",
      "source": [
        "L.remove(11)\n",
        "L.remove(13)\n",
        "print(L)"
      ],
      "metadata": {
        "colab": {
          "base_uri": "https://localhost:8080/"
        },
        "id": "4UAPKtD7Nci_",
        "outputId": "6978b101-5f9c-4f75-9b05-6e37c8e543c7"
      },
      "execution_count": null,
      "outputs": [
        {
          "output_type": "stream",
          "name": "stdout",
          "text": [
            "[12, 14, 50, 60]\n"
          ]
        }
      ]
    },
    {
      "cell_type": "markdown",
      "source": [
        "(iii) WAP to sort L in ascending order.\n"
      ],
      "metadata": {
        "id": "aiuTA7ywNt3c"
      }
    },
    {
      "cell_type": "code",
      "source": [
        "L.sort()\n",
        "print(L)"
      ],
      "metadata": {
        "colab": {
          "base_uri": "https://localhost:8080/"
        },
        "id": "0sB4bIugNhmG",
        "outputId": "14c9803e-f0da-47b1-e8b3-fcea53d31ac0"
      },
      "execution_count": null,
      "outputs": [
        {
          "output_type": "stream",
          "name": "stdout",
          "text": [
            "[12, 14, 50, 60]\n"
          ]
        }
      ]
    },
    {
      "cell_type": "markdown",
      "source": [
        "(iv) WAP to sort L in descending order."
      ],
      "metadata": {
        "id": "NERs-eiyN3lR"
      }
    },
    {
      "cell_type": "code",
      "source": [
        "L.sort(reverse=True)\n",
        "print(L)"
      ],
      "metadata": {
        "colab": {
          "base_uri": "https://localhost:8080/"
        },
        "id": "k2cxqwEBNwwO",
        "outputId": "f08e397e-0e01-46ad-c1eb-3f213823635f"
      },
      "execution_count": null,
      "outputs": [
        {
          "output_type": "stream",
          "name": "stdout",
          "text": [
            "[60, 50, 14, 12]\n"
          ]
        }
      ]
    },
    {
      "cell_type": "markdown",
      "source": [
        "(v) WAP to search for 13 in L."
      ],
      "metadata": {
        "id": "eZDbv-JYN-7a"
      }
    },
    {
      "cell_type": "code",
      "source": [
        "if 13 in L:\n",
        "  print(\"YES!Exists\")\n",
        "else:\n",
        "  print(\"DOESNT EXIST\")\n",
        "\n"
      ],
      "metadata": {
        "colab": {
          "base_uri": "https://localhost:8080/"
        },
        "id": "3yI1xRn6N8dV",
        "outputId": "52c633a1-dcb3-4ca1-edb9-aedf168b6d4b"
      },
      "execution_count": null,
      "outputs": [
        {
          "output_type": "stream",
          "name": "stdout",
          "text": [
            "DOESNT EXIST\n"
          ]
        }
      ]
    },
    {
      "cell_type": "markdown",
      "source": [
        "(vi) WAP to count the number of elements present in L"
      ],
      "metadata": {
        "id": "sKx8xJ-gN-41"
      }
    },
    {
      "cell_type": "code",
      "source": [
        "print(len(L))"
      ],
      "metadata": {
        "colab": {
          "base_uri": "https://localhost:8080/"
        },
        "id": "swlVD6VTO29m",
        "outputId": "dda6a7f9-6064-44b3-d5a7-2ea9fbf9d081"
      },
      "execution_count": null,
      "outputs": [
        {
          "output_type": "stream",
          "name": "stdout",
          "text": [
            "4\n"
          ]
        }
      ]
    },
    {
      "cell_type": "markdown",
      "source": [
        "(vii) WAP to sum all the elements in L."
      ],
      "metadata": {
        "id": "dDFBeyjBPCzf"
      }
    },
    {
      "cell_type": "code",
      "source": [
        "tsum=0\n",
        "for i in range(0,len(L)):\n",
        "  tsum=tsum+L[i]\n",
        "print(tsum)"
      ],
      "metadata": {
        "colab": {
          "base_uri": "https://localhost:8080/"
        },
        "id": "WGhFJiSgO5au",
        "outputId": "b391ff22-0f11-4fce-fdf3-29c9fd6c366f"
      },
      "execution_count": null,
      "outputs": [
        {
          "output_type": "stream",
          "name": "stdout",
          "text": [
            "136\n"
          ]
        }
      ]
    },
    {
      "cell_type": "markdown",
      "source": [
        "(viii) WAP to sum all ODD numbers in L"
      ],
      "metadata": {
        "id": "vgEBZAi9RyEl"
      }
    },
    {
      "cell_type": "code",
      "source": [
        "tsum=0\n",
        "for i in range(0,len(L)):\n",
        "  if i%2!=0:\n",
        "    tsum=tsum+L[i]\n",
        "  else:\n",
        "    continue\n",
        "print(tsum)"
      ],
      "metadata": {
        "colab": {
          "base_uri": "https://localhost:8080/"
        },
        "id": "kj_47N3yPMqu",
        "outputId": "55c593f2-b131-4653-825d-9f33431f4a43"
      },
      "execution_count": null,
      "outputs": [
        {
          "output_type": "stream",
          "name": "stdout",
          "text": [
            "62\n"
          ]
        }
      ]
    },
    {
      "cell_type": "markdown",
      "source": [
        "(ix) WAP to sum all EVEN numbers in L."
      ],
      "metadata": {
        "id": "YHuxc-u2Sg9q"
      }
    },
    {
      "cell_type": "code",
      "source": [
        "tsum=0\n",
        "for i in range(0,len(L)):\n",
        "  if i%2==0:\n",
        "    tsum=tsum+L[i]\n",
        "  else:\n",
        "    continue\n",
        "print(tsum)"
      ],
      "metadata": {
        "colab": {
          "base_uri": "https://localhost:8080/"
        },
        "id": "XP04jrC2SCfc",
        "outputId": "1b9e3726-9f98-4d70-abc4-7041db4bb1a5"
      },
      "execution_count": null,
      "outputs": [
        {
          "output_type": "stream",
          "name": "stdout",
          "text": [
            "74\n"
          ]
        }
      ]
    },
    {
      "cell_type": "markdown",
      "source": [
        "(x) WAP to sum all PRIME numbers in L."
      ],
      "metadata": {
        "id": "ST1VwJRnSmTQ"
      }
    },
    {
      "cell_type": "code",
      "source": [
        "tsum=0\n",
        "for i in range(0,len(L)):\n",
        "  for j in range(2,i//2 +1):\n",
        "    if i%j==0:\n",
        "      continue\n",
        "    else:\n",
        "      tsum=tsum+L[i]\n",
        "print(tsum)"
      ],
      "metadata": {
        "colab": {
          "base_uri": "https://localhost:8080/"
        },
        "id": "YopZ3TpBSjcF",
        "outputId": "16794bd1-d647-4066-9034-59dc81f10522"
      },
      "execution_count": null,
      "outputs": [
        {
          "output_type": "stream",
          "name": "stdout",
          "text": [
            "0\n"
          ]
        }
      ]
    },
    {
      "cell_type": "markdown",
      "source": [
        "(xi) WAP to clear all the elements in L."
      ],
      "metadata": {
        "id": "EsW7ko6cTyma"
      }
    },
    {
      "cell_type": "code",
      "source": [
        "L.clear()"
      ],
      "metadata": {
        "id": "Brvp7saPTjsk"
      },
      "execution_count": null,
      "outputs": []
    },
    {
      "cell_type": "markdown",
      "source": [
        "(xii) WAP to delete L."
      ],
      "metadata": {
        "id": "Wobv18GgUAeJ"
      }
    },
    {
      "cell_type": "code",
      "source": [
        "del L\n"
      ],
      "metadata": {
        "id": "leCHHKTpT2Ns"
      },
      "execution_count": null,
      "outputs": []
    },
    {
      "cell_type": "markdown",
      "source": [
        "Q2. D is a dictionary defined as D= {1:5.6, 2:7.8, 3:6.6, 4:8.7, 5:7.7}\n",
        "(i) WAP to add new entry in D; key=8 and value is 8.8"
      ],
      "metadata": {
        "id": "bGxC34VpULky"
      }
    },
    {
      "cell_type": "code",
      "source": [
        "D= {1:5.6, 2:7.8, 3:6.6, 4:8.7, 5:7.7}"
      ],
      "metadata": {
        "id": "fO6MapWvT4KT"
      },
      "execution_count": null,
      "outputs": []
    },
    {
      "cell_type": "code",
      "source": [
        "D[8]=8.8"
      ],
      "metadata": {
        "id": "3fNIIeXMUQFl"
      },
      "execution_count": null,
      "outputs": []
    },
    {
      "cell_type": "code",
      "source": [
        "print(D)"
      ],
      "metadata": {
        "colab": {
          "base_uri": "https://localhost:8080/"
        },
        "id": "yb_AfbcIUXc0",
        "outputId": "7667a5b4-6b56-4ca6-84e4-d6a804d926de"
      },
      "execution_count": null,
      "outputs": [
        {
          "output_type": "stream",
          "name": "stdout",
          "text": [
            "{1: 5.6, 2: 7.8, 3: 6.6, 4: 8.7, 5: 7.7, 8: 8.8}\n"
          ]
        }
      ]
    },
    {
      "cell_type": "markdown",
      "source": [
        "(ii) WAP to remove key=2."
      ],
      "metadata": {
        "id": "2tUjAR7hUczb"
      }
    },
    {
      "cell_type": "code",
      "source": [
        "del D[2]\n",
        "print(D)"
      ],
      "metadata": {
        "colab": {
          "base_uri": "https://localhost:8080/"
        },
        "id": "00nMjdwcUa30",
        "outputId": "77ed8f7d-bd83-4424-c377-fbb411b4e55d"
      },
      "execution_count": null,
      "outputs": [
        {
          "output_type": "stream",
          "name": "stdout",
          "text": [
            "{1: 5.6, 3: 6.6, 4: 8.7, 5: 7.7, 8: 8.8}\n"
          ]
        }
      ]
    },
    {
      "cell_type": "markdown",
      "source": [
        "(iii) WAP to check weather 6 key is present in D."
      ],
      "metadata": {
        "id": "dLAJANmbUeMs"
      }
    },
    {
      "cell_type": "code",
      "source": [
        "if 6 in D:\n",
        "  print(\"PRESENT\")\n",
        "else:\n",
        "  print(\"NOPE\")"
      ],
      "metadata": {
        "colab": {
          "base_uri": "https://localhost:8080/"
        },
        "id": "bMnMl1cRUgOM",
        "outputId": "b164f5d8-4a7a-4a18-9219-4e53961369cf"
      },
      "execution_count": null,
      "outputs": [
        {
          "output_type": "stream",
          "name": "stdout",
          "text": [
            "NOPE\n"
          ]
        }
      ]
    },
    {
      "cell_type": "markdown",
      "source": [
        "(iv) WAP to count the number of elements present in D."
      ],
      "metadata": {
        "id": "osTlD3LfUgn4"
      }
    },
    {
      "cell_type": "code",
      "source": [
        "count=len(D)\n",
        "print(count)"
      ],
      "metadata": {
        "colab": {
          "base_uri": "https://localhost:8080/"
        },
        "id": "eEiZlLsOUh0N",
        "outputId": "eb3e3c76-0646-4d2e-d96b-c08d0ae665d5"
      },
      "execution_count": null,
      "outputs": [
        {
          "output_type": "stream",
          "name": "stdout",
          "text": [
            "5\n"
          ]
        }
      ]
    },
    {
      "cell_type": "markdown",
      "source": [
        "(v) WAP to add all the values present D."
      ],
      "metadata": {
        "id": "WFHMzhONUiMD"
      }
    },
    {
      "cell_type": "code",
      "source": [
        "L=list(D.values())\n",
        "tsum=0\n",
        "for i in range(0,len(L)):\n",
        "  tsum=tsum+L[i]\n",
        "print(tsum)\n",
        "\n",
        "\n"
      ],
      "metadata": {
        "colab": {
          "base_uri": "https://localhost:8080/"
        },
        "id": "qMI48giCUjOc",
        "outputId": "52527e7e-a989-48d8-8354-e5bd764ce309"
      },
      "execution_count": null,
      "outputs": [
        {
          "output_type": "stream",
          "name": "stdout",
          "text": [
            "37.4\n"
          ]
        }
      ]
    },
    {
      "cell_type": "markdown",
      "source": [
        "(vi) WAP to update the value of 3 to 7.1.\n"
      ],
      "metadata": {
        "id": "xZaMXJ5lUkMu"
      }
    },
    {
      "cell_type": "code",
      "source": [
        "D[3]=7.1\n",
        "print(D)"
      ],
      "metadata": {
        "colab": {
          "base_uri": "https://localhost:8080/"
        },
        "id": "Emob58vYUmBM",
        "outputId": "92cdf585-f3da-40ab-8ee9-2e66f8033625"
      },
      "execution_count": null,
      "outputs": [
        {
          "output_type": "stream",
          "name": "stdout",
          "text": [
            "{1: 5.6, 3: 7.1, 4: 8.7, 5: 7.7, 8: 8.8}\n"
          ]
        }
      ]
    },
    {
      "cell_type": "markdown",
      "source": [
        "(vii) WAP to clear the dictionary."
      ],
      "metadata": {
        "id": "RuxxkJmGUnDI"
      }
    },
    {
      "cell_type": "code",
      "source": [
        "D.clear()\n",
        "print(D)"
      ],
      "metadata": {
        "colab": {
          "base_uri": "https://localhost:8080/"
        },
        "id": "StnLLwzMUnoF",
        "outputId": "ac4ecb4c-02b3-443c-9b69-f0be7e8d88ef"
      },
      "execution_count": null,
      "outputs": [
        {
          "output_type": "stream",
          "name": "stdout",
          "text": [
            "{}\n"
          ]
        }
      ]
    },
    {
      "cell_type": "markdown",
      "source": [
        "Q3. S1 is a set defined as S1= [10, 20, 30, 40, 50, 60].\n",
        " S2 is a set defined as S2= [40, 50, 60, 70, 80, 90].\n",
        "(i) WAP to add 55 and 66 in Set S1.\n",
        "\n"
      ],
      "metadata": {
        "id": "X686SCFaE4rg"
      }
    },
    {
      "cell_type": "code",
      "source": [
        "S1=set([10, 20, 30, 40, 50, 60])\n",
        "S2=set([40, 50, 60, 70, 80, 90])\n",
        "print(S1)\n",
        "print(S2)\n"
      ],
      "metadata": {
        "id": "6OdiboG1WQAj",
        "colab": {
          "base_uri": "https://localhost:8080/"
        },
        "outputId": "e5609668-07b3-4ddd-cd7b-354de3a35bbe"
      },
      "execution_count": null,
      "outputs": [
        {
          "output_type": "stream",
          "name": "stdout",
          "text": [
            "{40, 10, 50, 20, 60, 30}\n",
            "{70, 40, 80, 50, 90, 60}\n"
          ]
        }
      ]
    },
    {
      "cell_type": "code",
      "source": [
        "S1.add(55)\n",
        "S1.add(66)"
      ],
      "metadata": {
        "id": "FHIb31pyFjna"
      },
      "execution_count": null,
      "outputs": []
    },
    {
      "cell_type": "code",
      "source": [
        "print(S1)\n",
        "print(S2)"
      ],
      "metadata": {
        "colab": {
          "base_uri": "https://localhost:8080/"
        },
        "id": "r4NWNN5QF60C",
        "outputId": "cae91f55-7dd6-458d-b6aa-cc7fdfb7d51c"
      },
      "execution_count": null,
      "outputs": [
        {
          "output_type": "stream",
          "name": "stdout",
          "text": [
            "{66, 40, 10, 50, 20, 55, 60, 30}\n",
            "{70, 40, 80, 50, 90, 60}\n"
          ]
        }
      ]
    },
    {
      "cell_type": "markdown",
      "source": [
        "(ii) WAP to remove 10 and 30 from Set S1."
      ],
      "metadata": {
        "id": "2YJeslfCGFsr"
      }
    },
    {
      "cell_type": "code",
      "source": [
        "S1.remove(10)\n",
        "S1.remove(30)\n",
        "print(S1)\n",
        "print(S2)"
      ],
      "metadata": {
        "colab": {
          "base_uri": "https://localhost:8080/"
        },
        "id": "vSyBp1V7F-80",
        "outputId": "ace838a6-6990-4b75-9f28-baa6917d646c"
      },
      "execution_count": null,
      "outputs": [
        {
          "output_type": "stream",
          "name": "stdout",
          "text": [
            "{66, 40, 50, 20, 55, 60}\n",
            "{70, 40, 80, 50, 90, 60}\n"
          ]
        }
      ]
    },
    {
      "cell_type": "markdown",
      "source": [
        "(iii) WAP to check whether 40 is present in S1"
      ],
      "metadata": {
        "id": "w9cJM5wzGKNm"
      }
    },
    {
      "cell_type": "code",
      "source": [
        "if 40 in S1:\n",
        "  print(\"PRESENT\")\n",
        "else:\n",
        "  print(\"NOT PRESENT\")"
      ],
      "metadata": {
        "colab": {
          "base_uri": "https://localhost:8080/"
        },
        "id": "aepv_DQ4GL0a",
        "outputId": "62b0d3cd-45ee-4aa4-85e4-df7a19806763"
      },
      "execution_count": null,
      "outputs": [
        {
          "output_type": "stream",
          "name": "stdout",
          "text": [
            "PRESENT\n"
          ]
        }
      ]
    },
    {
      "cell_type": "markdown",
      "source": [
        "(iv) WAP to find the union between S1 and S2.\n"
      ],
      "metadata": {
        "id": "O5jr_xMfGNBf"
      }
    },
    {
      "cell_type": "code",
      "source": [
        "print(\"Union of %s and %s --->%s\"%(S1,S2,S1.union(S2)))"
      ],
      "metadata": {
        "colab": {
          "base_uri": "https://localhost:8080/"
        },
        "id": "U8e0jIJhGNmj",
        "outputId": "3f97ad9b-28ba-489e-fcb3-3996e0039991"
      },
      "execution_count": null,
      "outputs": [
        {
          "output_type": "stream",
          "name": "stdout",
          "text": [
            "Union of {66, 40, 50, 20, 55, 60} and {70, 40, 80, 50, 90, 60} --->{66, 70, 40, 80, 50, 20, 55, 90, 60}\n"
          ]
        }
      ]
    },
    {
      "cell_type": "markdown",
      "source": [
        "(v) WAP to find the intersection between S1 and S2."
      ],
      "metadata": {
        "id": "wx_EoScKGOvV"
      }
    },
    {
      "cell_type": "code",
      "source": [
        "print(\"Intersection of %s and %s --->%s\"%(S1,S2,S1.intersection(S2)))"
      ],
      "metadata": {
        "colab": {
          "base_uri": "https://localhost:8080/"
        },
        "id": "WRRAS7yLGPvS",
        "outputId": "a097125c-a7e1-442e-c9a5-0925f3a78d61"
      },
      "execution_count": null,
      "outputs": [
        {
          "output_type": "stream",
          "name": "stdout",
          "text": [
            "Intersection of {66, 40, 50, 20, 55, 60} and {70, 40, 80, 50, 90, 60} --->{40, 50, 60}\n"
          ]
        }
      ]
    },
    {
      "cell_type": "markdown",
      "source": [
        "(vi) WAP to find the S1 - S2."
      ],
      "metadata": {
        "id": "K6wYW0oDGQks"
      }
    },
    {
      "cell_type": "code",
      "source": [
        "print(\"Difference of %s and %s --->%s\"%(S1,S2,S1.difference(S2)))\n",
        "print(\"Difference of %s and %s --->%s\"%(S1,S2,S1-S2))"
      ],
      "metadata": {
        "colab": {
          "base_uri": "https://localhost:8080/"
        },
        "id": "gxJLJaCWGRIi",
        "outputId": "147a36e1-9766-4ee7-d41f-5c8f70269814"
      },
      "execution_count": null,
      "outputs": [
        {
          "output_type": "stream",
          "name": "stdout",
          "text": [
            "Difference of {66, 40, 50, 20, 55, 60} and {70, 40, 80, 50, 90, 60} --->{66, 20, 55}\n",
            "Difference of {66, 40, 50, 20, 55, 60} and {70, 40, 80, 50, 90, 60} --->{66, 20, 55}\n"
          ]
        }
      ]
    },
    {
      "cell_type": "markdown",
      "source": [
        "Q4. Write the following program.\n",
        "(i) WAP to print 100 random strings whose length between 6 and 8."
      ],
      "metadata": {
        "id": "xwhRrzrRGSRI"
      }
    },
    {
      "cell_type": "code",
      "source": [
        "import random as r\n",
        "import string as s\n",
        "i=1\n",
        "while i<=100:\n",
        "  randomlen=r.randint(6,8)\n",
        "  randomstr=r.sample(s.ascii_letters,randomlen)\n",
        "  finalstr=\"\".join(randomstr)\n",
        "  print(finalstr)\n",
        "  i+=1"
      ],
      "metadata": {
        "colab": {
          "base_uri": "https://localhost:8080/"
        },
        "id": "lxhZhh3XGUH2",
        "outputId": "a99ec699-bc95-463a-ead3-a77ed7a07ad2"
      },
      "execution_count": null,
      "outputs": [
        {
          "output_type": "stream",
          "name": "stdout",
          "text": [
            "OTJDqMz\n",
            "LGxplXE\n",
            "gMLISQPy\n",
            "VHqMnX\n",
            "sctbauj\n",
            "IMKvGx\n",
            "oKuIVreJ\n",
            "xeCpZUF\n",
            "QbXkLW\n",
            "kOnBZVt\n",
            "LNOQgw\n",
            "NmcRCaKO\n",
            "WmKEVoG\n",
            "ybHuZmI\n",
            "nqoulO\n",
            "TjZEIop\n",
            "mOnqPWed\n",
            "mXyZxOw\n",
            "LVOyzig\n",
            "vSWbQtE\n",
            "cSbGlBx\n",
            "OWCVLhgm\n",
            "phPSVe\n",
            "MWyeAEI\n",
            "WKksZJ\n",
            "fTGLeHs\n",
            "UWQRktp\n",
            "FmxytIQU\n",
            "JvgjCaVD\n",
            "GzVwSFOu\n",
            "irpVkjP\n",
            "XCeMihy\n",
            "ZrDlun\n",
            "gUPpnw\n",
            "giCPeI\n",
            "OgjSFH\n",
            "AYqHGso\n",
            "xTIQVvc\n",
            "uSyZnxr\n",
            "EsLygrfu\n",
            "xOFMWLTS\n",
            "jQkWXR\n",
            "sTRcnBE\n",
            "YEutiwa\n",
            "JfgZSO\n",
            "DeyTmdUb\n",
            "BekQcYsr\n",
            "BMtFiRTk\n",
            "WceIpoMQ\n",
            "jSktIxC\n",
            "DnAzpbaP\n",
            "HQXDoVKS\n",
            "RHaIdQCT\n",
            "dVBeNDa\n",
            "DLvmHTtI\n",
            "sJoVAFqU\n",
            "LTUGDYq\n",
            "uYbPzxo\n",
            "fknpVzRu\n",
            "hLNfPmOG\n",
            "HfLiRWa\n",
            "gCOManvQ\n",
            "DGZkJj\n",
            "iSMHYs\n",
            "FVtlGJ\n",
            "DAlnNdaK\n",
            "lzfPnmA\n",
            "tuXzAqB\n",
            "RNHLim\n",
            "HoTJymlY\n",
            "qgUsjzL\n",
            "tzhbMRx\n",
            "RrXPoJav\n",
            "ZRcsHMVt\n",
            "XeERwA\n",
            "cWCiIH\n",
            "uWcgpm\n",
            "lwhvXuc\n",
            "dkLNHFy\n",
            "AUYyMOop\n",
            "bWUgnC\n",
            "SPmXHJv\n",
            "cYBVeuG\n",
            "MlFYPidD\n",
            "AhXytp\n",
            "jRKTFQ\n",
            "cCuVrH\n",
            "AORkNT\n",
            "qxYFcS\n",
            "MqwBykN\n",
            "WDaFln\n",
            "UloZqPe\n",
            "YXeAFG\n",
            "OlNLuafq\n",
            "zcwjey\n",
            "pxSVKZRT\n",
            "WqZucV\n",
            "QuYqZecf\n",
            "aijXJl\n",
            "MOwrGn\n"
          ]
        }
      ]
    },
    {
      "cell_type": "markdown",
      "source": [
        "(ii) WAP to print all prime numbers between 600 and 800."
      ],
      "metadata": {
        "id": "KXUcE6stGVMt"
      }
    },
    {
      "cell_type": "code",
      "source": [
        "def IsPrime(n):\n",
        "\tfor i in range(2, n//2 + 1):\n",
        "\t\tif n%i==0:\n",
        "\t\t\treturn 0\n",
        "\treturn 1\n",
        "for j in range(600,800):\n",
        "  if IsPrime(j):\n",
        "    print(j)\n",
        "  else:\n",
        "    continue"
      ],
      "metadata": {
        "colab": {
          "base_uri": "https://localhost:8080/"
        },
        "id": "Ytv-_53QGVqy",
        "outputId": "1dc328e2-88dc-4032-8d66-7a1d0e275182"
      },
      "execution_count": null,
      "outputs": [
        {
          "output_type": "stream",
          "name": "stdout",
          "text": [
            "601\n",
            "607\n",
            "613\n",
            "617\n",
            "619\n",
            "631\n",
            "641\n",
            "643\n",
            "647\n",
            "653\n",
            "659\n",
            "661\n",
            "673\n",
            "677\n",
            "683\n",
            "691\n",
            "701\n",
            "709\n",
            "719\n",
            "727\n",
            "733\n",
            "739\n",
            "743\n",
            "751\n",
            "757\n",
            "761\n",
            "769\n",
            "773\n",
            "787\n",
            "797\n"
          ]
        }
      ]
    },
    {
      "cell_type": "markdown",
      "source": [
        "(iii) WAP to print all numbers between 100 and 1000 that are divisible by 7 and 9."
      ],
      "metadata": {
        "id": "uKEBfmM7GXP7"
      }
    },
    {
      "cell_type": "code",
      "source": [
        "def IsDivisible(n):\n",
        "\tfor i in range(100,n):\n",
        "\t\tif n%7==0 and n%9==0:\n",
        "\t\t\treturn 1\n",
        "\treturn 0\n",
        "for j in range(100,1000):\n",
        "  if IsDivisible(j):\n",
        "    print(j)\n",
        "  else:\n",
        "    continue"
      ],
      "metadata": {
        "colab": {
          "base_uri": "https://localhost:8080/"
        },
        "id": "-xKRk-g-GXxe",
        "outputId": "25006a36-e436-456b-d73e-b16b2438cd6f"
      },
      "execution_count": null,
      "outputs": [
        {
          "output_type": "stream",
          "name": "stdout",
          "text": [
            "126\n",
            "189\n",
            "252\n",
            "315\n",
            "378\n",
            "441\n",
            "504\n",
            "567\n",
            "630\n",
            "693\n",
            "756\n",
            "819\n",
            "882\n",
            "945\n"
          ]
        }
      ]
    },
    {
      "cell_type": "markdown",
      "source": [
        "Q5. WAP to create two lists of 10 random numbers between 10 and 30; Find\n",
        "(i) Common numbers in the two lists"
      ],
      "metadata": {
        "id": "ikUR0PMzGd75"
      }
    },
    {
      "cell_type": "code",
      "source": [
        "import random as r\n",
        "import numbers as n\n",
        "L1=r.sample(range(10,31),10)\n",
        "L2=r.sample(range(10,31),10)\n",
        "print(L1)\n",
        "print(L2)\n",
        "Common=list(set(L1).intersection(set(L2)))\n",
        "print(Common)"
      ],
      "metadata": {
        "colab": {
          "base_uri": "https://localhost:8080/"
        },
        "id": "cfh_aiHlGfyi",
        "outputId": "347cb0f2-5fcd-43d7-98f8-1dd007b241cc"
      },
      "execution_count": null,
      "outputs": [
        {
          "output_type": "stream",
          "name": "stdout",
          "text": [
            "[20, 14, 19, 24, 27, 25, 18, 22, 26, 17]\n",
            "[22, 29, 27, 25, 24, 15, 16, 11, 30, 19]\n",
            "[19, 22, 24, 25, 27]\n"
          ]
        }
      ]
    },
    {
      "cell_type": "markdown",
      "source": [
        "(ii) Unique numbers in both the list"
      ],
      "metadata": {
        "id": "Ec7tEfbXGhQt"
      }
    },
    {
      "cell_type": "code",
      "source": [
        "import random as r\n",
        "import numbers as n\n",
        "L1=r.sample(range(10,31),10)\n",
        "L2=r.sample(range(10,31),10)\n",
        "print(L1)\n",
        "print(L2)\n",
        "Uniquee=list(set(L1).difference(set(L2)).union(set(L2).difference(set(L1))))\n",
        "print(Uniquee)"
      ],
      "metadata": {
        "colab": {
          "base_uri": "https://localhost:8080/"
        },
        "id": "XtIWzC2uGh0q",
        "outputId": "b70607e2-a5ac-4df5-ad11-39a403a1988c"
      },
      "execution_count": null,
      "outputs": [
        {
          "output_type": "stream",
          "name": "stdout",
          "text": [
            "[26, 21, 30, 17, 18, 27, 29, 28, 23, 16]\n",
            "[14, 21, 17, 10, 15, 23, 20, 25, 22, 13]\n",
            "[10, 13, 14, 15, 16, 18, 20, 22, 25, 26, 27, 28, 29, 30]\n"
          ]
        }
      ]
    },
    {
      "cell_type": "markdown",
      "source": [
        "(iii) Minimum in both the list"
      ],
      "metadata": {
        "id": "-QE8B7IiGjDP"
      }
    },
    {
      "cell_type": "code",
      "source": [
        "import random as r\n",
        "import numbers as n\n",
        "L1=r.sample(range(10,31),10)\n",
        "L2=r.sample(range(10,31),10)\n",
        "print(L1)\n",
        "print(L2)\n",
        "Unionn=list(set(L1).union(set(L2)))\n",
        "print(min(Unionn))"
      ],
      "metadata": {
        "colab": {
          "base_uri": "https://localhost:8080/"
        },
        "id": "bI0ktq_RGjji",
        "outputId": "8019a230-82d0-427c-f32f-c15dc686cab9"
      },
      "execution_count": null,
      "outputs": [
        {
          "output_type": "stream",
          "name": "stdout",
          "text": [
            "[11, 28, 20, 12, 16, 29, 19, 23, 25, 17]\n",
            "[21, 27, 10, 14, 11, 12, 26, 19, 18, 17]\n",
            "10\n"
          ]
        }
      ]
    },
    {
      "cell_type": "markdown",
      "source": [
        "(iv) Maximum in both the list\n"
      ],
      "metadata": {
        "id": "IgxoWx5ZGk7v"
      }
    },
    {
      "cell_type": "code",
      "source": [
        "import random as r\n",
        "import numbers as n\n",
        "L1=r.sample(range(10,31),10)\n",
        "L2=r.sample(range(10,31),10)\n",
        "print(L1)\n",
        "print(L2)\n",
        "Unionn=list(set(L1).union(set(L2)))\n",
        "print(max(Unionn))"
      ],
      "metadata": {
        "colab": {
          "base_uri": "https://localhost:8080/"
        },
        "id": "T2sKvzCpGlm6",
        "outputId": "6ced81d8-fd1c-4430-f3ea-1befc3c094e4"
      },
      "execution_count": null,
      "outputs": [
        {
          "output_type": "stream",
          "name": "stdout",
          "text": [
            "[19, 27, 25, 22, 10, 15, 26, 17, 23, 29]\n",
            "[28, 21, 14, 19, 12, 13, 24, 23, 18, 17]\n",
            "29\n"
          ]
        }
      ]
    },
    {
      "cell_type": "markdown",
      "source": [
        "(v) Sum of both the lists\n"
      ],
      "metadata": {
        "id": "MsoKsikGGo5x"
      }
    },
    {
      "cell_type": "code",
      "source": [
        "import random as r\n",
        "import numbers as n\n",
        "L1=r.sample(range(10,31),10)\n",
        "L2=r.sample(range(10,31),10)\n",
        "print(L1)\n",
        "print(L2)\n",
        "sum_list = L1+L2\n",
        "print(sum_list)"
      ],
      "metadata": {
        "colab": {
          "base_uri": "https://localhost:8080/"
        },
        "id": "pIU5IKBhGpey",
        "outputId": "a1e28808-42a1-4942-bb41-7fb927ebae45"
      },
      "execution_count": null,
      "outputs": [
        {
          "output_type": "stream",
          "name": "stdout",
          "text": [
            "[15, 12, 10, 20, 24, 19, 25, 18, 22, 29]\n",
            "[29, 22, 12, 11, 24, 21, 10, 26, 27, 25]\n",
            "[15, 12, 10, 20, 24, 19, 25, 18, 22, 29, 29, 22, 12, 11, 24, 21, 10, 26, 27, 25]\n"
          ]
        }
      ]
    },
    {
      "cell_type": "markdown",
      "source": [
        "Q6. WAP to create a list of 100 random numbers between 100 and 900. Count and print the:\n",
        "(i) All odd numbers\n",
        "\n"
      ],
      "metadata": {
        "id": "6UqQmCWoGr01"
      }
    },
    {
      "cell_type": "code",
      "source": [
        "import random as r\n",
        "L1=r.sample(range(100,901),100)\n",
        "print(L1)\n",
        "L1.sort()\n",
        "count=0\n",
        "for i in range(len(L1)):\n",
        "  if L1[i] %2!=0:\n",
        "    count+=1\n",
        "    print(L1[i])\n",
        "  else:\n",
        "    continue\n",
        "print(\"TOTAL COUNT OF ODD NUMBERS=\",count)"
      ],
      "metadata": {
        "colab": {
          "base_uri": "https://localhost:8080/"
        },
        "id": "5fqfSjxlGuMK",
        "outputId": "b0a46259-7d82-485c-b763-7701cbb8f78e"
      },
      "execution_count": null,
      "outputs": [
        {
          "output_type": "stream",
          "name": "stdout",
          "text": [
            "[362, 700, 558, 821, 898, 757, 175, 878, 520, 603, 547, 789, 113, 235, 344, 686, 513, 514, 862, 183, 429, 733, 495, 727, 149, 373, 679, 866, 749, 296, 886, 583, 282, 431, 197, 364, 722, 642, 703, 882, 623, 382, 892, 666, 654, 481, 652, 258, 565, 494, 704, 335, 887, 888, 255, 620, 137, 430, 875, 780, 361, 665, 815, 424, 368, 803, 354, 435, 755, 313, 706, 286, 767, 442, 279, 802, 776, 267, 253, 238, 359, 375, 849, 262, 627, 126, 597, 672, 599, 561, 573, 671, 825, 397, 787, 735, 475, 522, 108, 337]\n",
            "113\n",
            "137\n",
            "149\n",
            "175\n",
            "183\n",
            "197\n",
            "235\n",
            "253\n",
            "255\n",
            "267\n",
            "279\n",
            "313\n",
            "335\n",
            "337\n",
            "359\n",
            "361\n",
            "373\n",
            "375\n",
            "397\n",
            "429\n",
            "431\n",
            "435\n",
            "475\n",
            "481\n",
            "495\n",
            "513\n",
            "547\n",
            "561\n",
            "565\n",
            "573\n",
            "583\n",
            "597\n",
            "599\n",
            "603\n",
            "623\n",
            "627\n",
            "665\n",
            "671\n",
            "679\n",
            "703\n",
            "727\n",
            "733\n",
            "735\n",
            "749\n",
            "755\n",
            "757\n",
            "767\n",
            "787\n",
            "789\n",
            "803\n",
            "815\n",
            "821\n",
            "825\n",
            "849\n",
            "875\n",
            "887\n",
            "TOTAL COUNT OF ODD NUMBERS= 56\n"
          ]
        }
      ]
    },
    {
      "cell_type": "markdown",
      "source": [
        "(ii) All even numbers"
      ],
      "metadata": {
        "id": "ScNceiPiGvWT"
      }
    },
    {
      "cell_type": "code",
      "source": [
        "import random as r\n",
        "L1=r.sample(range(100,901),100)\n",
        "print(L1)\n",
        "L1.sort()\n",
        "count=0\n",
        "for i in range(len(L1)):\n",
        "  if L1[i] %2==0:\n",
        "    count+=1\n",
        "    print(L1[i])\n",
        "  else:\n",
        "    continue\n",
        "print(\"TOTAL COUNT OF EVEN NUMBERS=\",count)"
      ],
      "metadata": {
        "colab": {
          "base_uri": "https://localhost:8080/"
        },
        "id": "g5LQgfb9Gv7b",
        "outputId": "4f003b05-12ef-44c2-98c5-e31370fd99d9"
      },
      "execution_count": null,
      "outputs": [
        {
          "output_type": "stream",
          "name": "stdout",
          "text": [
            "[434, 101, 715, 231, 401, 798, 330, 711, 355, 162, 406, 392, 254, 416, 319, 814, 507, 873, 850, 327, 334, 280, 642, 582, 121, 842, 710, 827, 467, 732, 899, 441, 546, 876, 359, 490, 552, 539, 320, 888, 709, 326, 440, 299, 291, 225, 592, 365, 248, 833, 638, 630, 422, 129, 496, 791, 681, 887, 458, 622, 695, 123, 181, 173, 214, 885, 176, 880, 499, 137, 151, 292, 430, 304, 258, 417, 195, 895, 668, 185, 547, 577, 322, 581, 456, 374, 555, 398, 368, 826, 792, 122, 823, 230, 470, 847, 172, 324, 566, 781]\n",
            "122\n",
            "162\n",
            "172\n",
            "176\n",
            "214\n",
            "230\n",
            "248\n",
            "254\n",
            "258\n",
            "280\n",
            "292\n",
            "304\n",
            "320\n",
            "322\n",
            "324\n",
            "326\n",
            "330\n",
            "334\n",
            "368\n",
            "374\n",
            "392\n",
            "398\n",
            "406\n",
            "416\n",
            "422\n",
            "430\n",
            "434\n",
            "440\n",
            "456\n",
            "458\n",
            "470\n",
            "490\n",
            "496\n",
            "546\n",
            "552\n",
            "566\n",
            "582\n",
            "592\n",
            "622\n",
            "630\n",
            "638\n",
            "642\n",
            "668\n",
            "710\n",
            "732\n",
            "792\n",
            "798\n",
            "814\n",
            "826\n",
            "842\n",
            "850\n",
            "876\n",
            "880\n",
            "888\n",
            "TOTAL COUNT OF EVEN NUMBERS= 54\n"
          ]
        }
      ]
    },
    {
      "cell_type": "markdown",
      "source": [
        "(iii) All prime numbers"
      ],
      "metadata": {
        "id": "5uFAKLZZGwvt"
      }
    },
    {
      "cell_type": "code",
      "source": [
        "def IsPrime(n):\n",
        "\tfor i in range(2, n//2 + 1):\n",
        "\t\tif n%i==0:\n",
        "\t\t\treturn 0\n",
        "\treturn 1\n",
        "\n",
        "import random as r\n",
        "L1=r.sample(range(100,901),100)\n",
        "print(L1)\n",
        "L1.sort()\n",
        "count=0\n",
        "for i in range(len(L1)):\n",
        "  if IsPrime(L1[i]):\n",
        "    count+=1\n",
        "    print(L1[i])\n",
        "  else:\n",
        "    continue\n",
        "print(\"TOTAL COUNT OF PRIME NUMBERS=\",count)"
      ],
      "metadata": {
        "colab": {
          "base_uri": "https://localhost:8080/"
        },
        "id": "ZExk71EVGxRK",
        "outputId": "04588def-2a44-4b92-d746-27615c44327f"
      },
      "execution_count": null,
      "outputs": [
        {
          "output_type": "stream",
          "name": "stdout",
          "text": [
            "[329, 696, 261, 449, 552, 262, 527, 467, 219, 761, 628, 429, 135, 417, 650, 372, 190, 521, 321, 210, 432, 362, 865, 655, 379, 419, 692, 180, 659, 187, 145, 813, 788, 501, 366, 314, 248, 748, 119, 702, 365, 703, 567, 613, 192, 451, 110, 526, 197, 730, 265, 871, 548, 780, 376, 302, 503, 114, 351, 317, 864, 671, 238, 138, 762, 140, 830, 215, 476, 475, 369, 142, 784, 205, 382, 580, 156, 250, 422, 777, 167, 318, 193, 506, 737, 296, 636, 315, 652, 108, 666, 838, 809, 631, 856, 570, 469, 898, 421, 412]\n",
            "167\n",
            "193\n",
            "197\n",
            "317\n",
            "379\n",
            "419\n",
            "421\n",
            "449\n",
            "467\n",
            "503\n",
            "521\n",
            "613\n",
            "631\n",
            "659\n",
            "761\n",
            "809\n",
            "TOTAL COUNT OF PRIME NUMBERS= 16\n"
          ]
        }
      ]
    },
    {
      "cell_type": "markdown",
      "source": [
        "Q7. D is a dictionary defined as D={1:\"One\",2:\"Two\",3:\"Three\",4:\"Four\", 5:\"Five\"}.\n",
        " WAP to read all the keys and values from dictionary and write to the file in the given below format.\n",
        "Key1, Value1\n",
        "Key2, Value2\n",
        "Key3, Value3\n"
      ],
      "metadata": {
        "id": "4sj_jiclGzpd"
      }
    },
    {
      "cell_type": "code",
      "source": [
        "D = {1: \"One\", 2: \"Two\", 3: \"Three\", 4: \"Four\", 5: \"Five\"}\n",
        "fp=open(\"output.txt\", \"w\")\n",
        "fp.writelines([f\"Key{key}, Value{value}\\n\" for key, value in D.items()])\n",
        "print(\"File writing completed!\")\n",
        "\n"
      ],
      "metadata": {
        "colab": {
          "base_uri": "https://localhost:8080/"
        },
        "id": "udFMpJd1G0Rq",
        "outputId": "173b1f20-7adf-4dfe-91b2-415e6471193f"
      },
      "execution_count": null,
      "outputs": [
        {
          "output_type": "stream",
          "name": "stdout",
          "text": [
            "File writing completed!\n"
          ]
        }
      ]
    },
    {
      "cell_type": "markdown",
      "source": [
        "Q8. L is a list defined as L={\"One\",\"Two\",\"Three\",\"Four\",\"Five\"}.\n",
        " WAP to count the length of reach element from a list and write to the file in the given below format:\n",
        "One, 3\n",
        "Two, 3\n",
        "Four, 4\n"
      ],
      "metadata": {
        "id": "9P2tI4BOG2KL"
      }
    },
    {
      "cell_type": "code",
      "source": [
        "L = [\"One\", \"Two\", \"Three\", \"Four\", \"Five\"]\n",
        "fp=open(\"output1.txt\", \"w\")\n",
        "for element in L:\n",
        "  fp.write(f\"{element}, {len(element)}\\n\")\n",
        "\n",
        "print(\"File writing completed!\")\n"
      ],
      "metadata": {
        "colab": {
          "base_uri": "https://localhost:8080/"
        },
        "id": "4KgkShjeG23Z",
        "outputId": "9d79cb2b-767c-475d-accf-83c9b8acd85a"
      },
      "execution_count": null,
      "outputs": [
        {
          "output_type": "stream",
          "name": "stdout",
          "text": [
            "File writing completed!\n"
          ]
        }
      ]
    },
    {
      "cell_type": "markdown",
      "source": [
        "Q9. Write to the file 100 random strings whose length between 10 and 15"
      ],
      "metadata": {
        "id": "NTGrVO84G4gP"
      }
    },
    {
      "cell_type": "code",
      "source": [
        "import string as s\n",
        "import random as r\n",
        "i=1\n",
        "fp=open(\"output2.txt\",\"w\")\n",
        "for i in range(1,100):\n",
        "  randomlen=r.randint(10,15)\n",
        "  randomstr=r.sample(s.ascii_letters,randomlen)\n",
        "  finalstr=\"\".join(randomstr)\n",
        "  fp.write(f\"{finalstr}\")\n",
        "print(\"File writing completed!\")\n"
      ],
      "metadata": {
        "colab": {
          "base_uri": "https://localhost:8080/"
        },
        "id": "CZmLibdpG5F6",
        "outputId": "3d8cc931-14c0-45fa-f441-3a3dc72a675a"
      },
      "execution_count": null,
      "outputs": [
        {
          "output_type": "stream",
          "name": "stdout",
          "text": [
            "File writing completed!\n"
          ]
        }
      ]
    },
    {
      "cell_type": "markdown",
      "source": [
        "Q10. Write to the file all prime numbers between 600 and 800."
      ],
      "metadata": {
        "id": "5e69yCFFG6dc"
      }
    },
    {
      "cell_type": "code",
      "source": [
        "def IsPrime(n):\n",
        "  for i in range(2,n//2+1):\n",
        "    if n%i==0:\n",
        "      return 0\n",
        "    return 1\n",
        "fp=open(\"output3.txt\",\"w\")\n",
        "for i in range(600,801):\n",
        "  if IsPrime(i):\n",
        "    fp.write(f\"{i}\\n\")\n",
        "  else:\n",
        "    continue\n",
        "print(\"File writing completed.\")\n"
      ],
      "metadata": {
        "id": "RefjMIR9G6-h",
        "colab": {
          "base_uri": "https://localhost:8080/"
        },
        "outputId": "6d19c84a-979f-4971-af82-734237e0c508"
      },
      "execution_count": 64,
      "outputs": [
        {
          "output_type": "stream",
          "name": "stdout",
          "text": [
            "File writing completed.\n"
          ]
        }
      ]
    },
    {
      "cell_type": "markdown",
      "source": [
        "Q11. WAP to calculate the time taken by a program."
      ],
      "metadata": {
        "id": "KBa9xB5mG8NX"
      }
    },
    {
      "cell_type": "code",
      "source": [
        "import time\n",
        "start_time=time.time()\n",
        "end_time=time.time()\n",
        "total_time=(end_time-start_time)\n",
        "print(total_time,\"seconds\")\n",
        "\n"
      ],
      "metadata": {
        "id": "2S4O6hyUG8ws",
        "colab": {
          "base_uri": "https://localhost:8080/"
        },
        "outputId": "06978d73-1952-4a5a-856d-0f7f584d4297"
      },
      "execution_count": 70,
      "outputs": [
        {
          "output_type": "stream",
          "name": "stdout",
          "text": [
            "3.886222839355469e-05 seconds\n"
          ]
        }
      ]
    },
    {
      "cell_type": "markdown",
      "source": [
        "Q12. WAP to sort following number of elements in a list, calculate time taken and plot the graph.\n",
        "Number of elements in list Time Taken\n",
        "5k T1\n",
        "10k T2\n",
        "15k T3\n",
        "20k T4\n",
        "25k T5"
      ],
      "metadata": {
        "id": "wCs1JlQ6G-FO"
      }
    },
    {
      "cell_type": "code",
      "source": [
        "import time\n",
        "import matplotlib.pyplot as plt\n",
        "\n",
        "def Timey(num_elements):\n",
        "  L1=list(range(num_elements, 0, -1))\n",
        "  start_time=time.time()\n",
        "  L1.sort()\n",
        "  end_time=time.time()\n",
        "  total_time=end_time-start_time\n",
        "  return total_time\n",
        "\n",
        "num_elements=[5000,10000,15000,20000,25000]\n",
        "i=1\n",
        "total_time=[]\n",
        "for i in num_elements:\n",
        "    time_taken = Timey(i)\n",
        "    total_time.append(time_taken)\n",
        "    print(f\"Time taken for {i} elements: {time_taken} seconds\")\n",
        "\n",
        "# Plot the graph\n",
        "plt.plot(num_elements, total_time, 'bo-')\n",
        "plt.xlabel('Number of Elements')\n",
        "plt.ylabel('Time Taken (seconds)')\n",
        "plt.title('Sorting Time vs Number of Elements')\n",
        "plt.show()\n",
        "\n"
      ],
      "metadata": {
        "id": "D_O4KLbsHB_K",
        "colab": {
          "base_uri": "https://localhost:8080/",
          "height": 559
        },
        "outputId": "f78d9d33-a19c-4564-ed3c-f2d797460297"
      },
      "execution_count": 79,
      "outputs": [
        {
          "output_type": "stream",
          "name": "stdout",
          "text": [
            "Time taken for 5000 elements: 5.245208740234375e-05 seconds\n",
            "Time taken for 10000 elements: 9.751319885253906e-05 seconds\n",
            "Time taken for 15000 elements: 0.00013947486877441406 seconds\n",
            "Time taken for 20000 elements: 0.00023317337036132812 seconds\n",
            "Time taken for 25000 elements: 0.00024437904357910156 seconds\n"
          ]
        },
        {
          "output_type": "display_data",
          "data": {
            "text/plain": [
              "<Figure size 640x480 with 1 Axes>"
            ],
            "image/png": "[encoded data removed]"
          },
          "metadata": {}
        }
      ]
    },
    {
      "cell_type": "markdown",
      "source": [
        "Q13. WAP to create a dictionary of student marks in five subjects and you\n",
        "\n",
        "*   List item\n",
        "*   List item\n",
        "\n",
        "have to find the student\n",
        " having maximum and minimum average marks"
      ],
      "metadata": {
        "id": "ORkGjmAvHD3T"
      }
    },
    {
      "cell_type": "code",
      "source": [
        "# Create a dictionary of student marks\n",
        "student_marks = {\n",
        "    'Alice': [80, 75, 90, 85, 95],\n",
        "    'Bob': [70, 65, 80, 75, 85],\n",
        "    'Charlie': [90, 85, 95, 80, 90],\n",
        "    'David': [60, 55, 70, 65, 75],\n",
        "    'Eve': [85, 80, 90, 75, 95]\n",
        "}\n",
        "\n",
        "# Calculate average marks for each student\n",
        "average_marks = {}\n",
        "for student, marks in student_marks.items():\n",
        "    average_marks[student] = sum(marks) / len(marks)\n",
        "\n",
        "\n",
        "max_student = max(average_marks, key=average_marks.get)\n",
        "max_average = average_marks[max_student]\n",
        "\n",
        "min_student = min(average_marks, key=average_marks.get)\n",
        "min_average = average_marks[min_student]\n",
        "\n",
        "print(\"Student with maximum average marks:\")\n",
        "print(\"Name:\", max_student)\n",
        "print(\"Average Marks:\", max_average)\n",
        "\n",
        "print(\"\\nStudent with minimum average marks:\")\n",
        "print(\"Name:\", min_student)\n",
        "print(\"Average Marks:\", min_average)\n"
      ],
      "metadata": {
        "id": "6oixVbhCHGbR",
        "colab": {
          "base_uri": "https://localhost:8080/",
          "height": 235
        },
        "outputId": "e8cfeed4-7654-477b-8be1-bb0f416f9040"
      },
      "execution_count": 88,
      "outputs": [
        {
          "output_type": "error",
          "ename": "TypeError",
          "evalue": "ignored",
          "traceback": [
            "\u001b[0;31m---------------------------------------------------------------------------\u001b[0m",
            "\u001b[0;31mTypeError\u001b[0m                                 Traceback (most recent call last)",
            "\u001b[0;32m<ipython-input-88-c2bef7cb02ba>\u001b[0m in \u001b[0;36m<cell line: 12>\u001b[0;34m()\u001b[0m\n\u001b[1;32m     11\u001b[0m \u001b[0maverage_marks\u001b[0m \u001b[0;34m=\u001b[0m \u001b[0;34m{\u001b[0m\u001b[0;34m}\u001b[0m\u001b[0;34m\u001b[0m\u001b[0;34m\u001b[0m\u001b[0m\n\u001b[1;32m     12\u001b[0m \u001b[0;32mfor\u001b[0m \u001b[0mstudent\u001b[0m\u001b[0;34m,\u001b[0m \u001b[0mmarks\u001b[0m \u001b[0;32min\u001b[0m \u001b[0mstudent_marks\u001b[0m\u001b[0;34m.\u001b[0m\u001b[0mitems\u001b[0m\u001b[0;34m(\u001b[0m\u001b[0;34m)\u001b[0m\u001b[0;34m:\u001b[0m\u001b[0;34m\u001b[0m\u001b[0;34m\u001b[0m\u001b[0m\n\u001b[0;32m---> 13\u001b[0;31m     \u001b[0maverage_marks\u001b[0m\u001b[0;34m[\u001b[0m\u001b[0;34m\"student\"\u001b[0m\u001b[0;34m]\u001b[0m \u001b[0;34m=\u001b[0m \u001b[0msum\u001b[0m\u001b[0;34m(\u001b[0m\u001b[0mmarks\u001b[0m\u001b[0;34m)\u001b[0m \u001b[0;34m/\u001b[0m \u001b[0mlen\u001b[0m\u001b[0;34m(\u001b[0m\u001b[0mmarks\u001b[0m\u001b[0;34m)\u001b[0m\u001b[0;34m\u001b[0m\u001b[0;34m\u001b[0m\u001b[0m\n\u001b[0m\u001b[1;32m     14\u001b[0m \u001b[0;34m\u001b[0m\u001b[0m\n\u001b[1;32m     15\u001b[0m \u001b[0;34m\u001b[0m\u001b[0m\n",
            "\u001b[0;31mTypeError\u001b[0m: 'list' object is not callable"
          ]
        }
      ]
    },
    {
      "cell_type": "code",
      "source": [],
      "metadata": {
        "id": "7ADR8Bx3yDMe"
      },
      "execution_count": null,
      "outputs": []
    }
  ]
}