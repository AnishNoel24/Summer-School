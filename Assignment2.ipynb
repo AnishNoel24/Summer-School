{
  "nbformat": 4,
  "nbformat_minor": 0,
  "metadata": {
    "colab": {
      "provenance": []
    },
    "kernelspec": {
      "name": "python3",
      "display_name": "Python 3"
    },
    "language_info": {
      "name": "python"
    }
  },
  "cells": [
    {
      "cell_type": "markdown",
      "source": [
        "Write a python program to sort the list of heterogeneous data. <br>\n",
        "e.g. <br>\n",
        "L = [\"Ram\", 1, \"Shyam\", 2, \"Aman\", 3]<br>\n",
        "print(L)<br>\n",
        "L.sort()<br>\n",
        "print(L)<br>\n",
        "# Above code gives error. Correct it"
      ],
      "metadata": {
        "id": "Z-vOYitAPKrq"
      }
    },
    {
      "cell_type": "code",
      "execution_count": 3,
      "metadata": {
        "colab": {
          "base_uri": "https://localhost:8080/"
        },
        "id": "WlVE6Hu8Oa-Z",
        "outputId": "33c811e9-dac2-4330-e1c8-eddeb46af5ab"
      },
      "outputs": [
        {
          "output_type": "stream",
          "name": "stdout",
          "text": [
            "['Ram', 1, 'Shyam', 2, 'Aman', 3]\n",
            "[1, 2, 3, 'Aman', 'Ram', 'Shyam']\n"
          ]
        }
      ],
      "source": [
        "L = [\"Ram\", 1, \"Shyam\", 2, \"Aman\", 3]\n",
        "print(L)\n",
        "L.sort(key=str)\n",
        "\n",
        "print(L)\n",
        "\n"
      ]
    },
    {
      "cell_type": "code",
      "source": [],
      "metadata": {
        "id": "Qcg8iw2DOb_W"
      },
      "execution_count": null,
      "outputs": []
    }
  ]
}